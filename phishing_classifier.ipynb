{
  "nbformat": 4,
  "nbformat_minor": 0,
  "metadata": {
    "colab": {
      "name": "phishing_classifier.ipynb",
      "provenance": [],
      "collapsed_sections": []
    },
    "kernelspec": {
      "name": "python3",
      "display_name": "Python 3"
    }
  },
  "cells": [
    {
      "cell_type": "code",
      "metadata": {
        "id": "bzpImvhp4Jv9",
        "colab_type": "code",
        "colab": {
          "base_uri": "https://localhost:8080/",
          "height": 70
        },
        "outputId": "ad7bbd1a-5ba9-45d0-c964-80533fba0410"
      },
      "source": [
        "%matplotlib inline\n",
        "import numpy as np\n",
        "import matplotlib.pyplot as plt\n",
        "import pandas as pd\n",
        "import seaborn as sns\n",
        "import pickle\n",
        "\n",
        "\n",
        "# Metrics for evaluation.\n",
        "from sklearn.metrics import confusion_matrix\n",
        "from sklearn.metrics import classification_report\n",
        "from sklearn.metrics import f1_score, accuracy_score, roc_auc_score, make_scorer\n",
        "from sklearn.model_selection import train_test_split\n",
        "\n",
        "from sklearn.preprocessing import StandardScaler\n",
        "\n",
        "# Classification Models\n",
        "from sklearn.linear_model import LogisticRegression\n",
        "from sklearn.neighbors import KNeighborsClassifier\n",
        "from sklearn.tree import DecisionTreeClassifier\n",
        "from sklearn.ensemble import RandomForestClassifier, AdaBoostClassifier\n",
        "from sklearn.model_selection import GridSearchCV\n",
        "\n",
        "from sklearn.model_selection import train_test_split\n",
        "from sklearn.utils import shuffle"
      ],
      "execution_count": 1,
      "outputs": [
        {
          "output_type": "stream",
          "text": [
            "/usr/local/lib/python3.6/dist-packages/statsmodels/tools/_testing.py:19: FutureWarning: pandas.util.testing is deprecated. Use the functions in the public API at pandas.testing instead.\n",
            "  import pandas.util.testing as tm\n"
          ],
          "name": "stderr"
        }
      ]
    },
    {
      "cell_type": "code",
      "metadata": {
        "id": "DuRQNGmp4Lj-",
        "colab_type": "code",
        "colab": {}
      },
      "source": [
        "# dataset_url = 'datasets/urlset.csv'\n",
        "# data = pd.read_csv(dataset_url)\n",
        "# data = shuffle(data).reset_index(drop=True)\n",
        "# #data.shape\n",
        "# labels = data.iloc[:, lambda df: [-1]]\n",
        "# data = data.loc[:,lambda df:['domain', 'ranking']]\n",
        "# #labels.shape\n",
        "# #X_train, X_test, Y_train, Y_test = train_test_split(data, labels, test_size=0.33, random_state=42)\n",
        "# #X_train.shape\n",
        "# #X_test.shape"
      ],
      "execution_count": null,
      "outputs": []
    },
    {
      "cell_type": "code",
      "metadata": {
        "id": "3Gqg-gOU4TtK",
        "colab_type": "code",
        "colab": {
          "base_uri": "https://localhost:8080/",
          "height": 34
        },
        "outputId": "52d9d41d-4118-4e5c-9d7f-35c3bab16953"
      },
      "source": [
        "\n",
        "featureset = '/content/urlsdataset.csv'\n",
        "data = pd.read_csv(featureset)\n",
        "sscaler = StandardScaler()\n",
        "#data = sscaler.fit_transform(data)\n",
        "labels = data.iloc[:, lambda df: [-1]]\n",
        "data = data.iloc[:,1:-1]\n",
        "\n",
        "train_data = data.iloc[0:76000,:]\n",
        "labels_train = labels.iloc[0:76000,:]\n",
        "\n",
        "test_data = data.iloc[76001:,:]\n",
        "labels_test = labels.iloc[76001:,:]\n",
        "labels_test.shape"
      ],
      "execution_count": 2,
      "outputs": [
        {
          "output_type": "execute_result",
          "data": {
            "text/plain": [
              "(29928, 1)"
            ]
          },
          "metadata": {
            "tags": []
          },
          "execution_count": 2
        }
      ]
    },
    {
      "cell_type": "code",
      "metadata": {
        "id": "XKZZLIKt4UfC",
        "colab_type": "code",
        "colab": {}
      },
      "source": [
        "def create_features(data_frame):\n",
        "    url = data_frame['domain']\n",
        "    len_url = []\n",
        "    for u in url:\n",
        "        len_url.append(len(u))\n",
        "\n",
        "    data_frame['URL_length'] = pd.Series(len_url)\n",
        " \n",
        "    count_slashes = []\n",
        "    for u in url:\n",
        "        count_slashes.append(u.count('//') )\n",
        "    data_frame['URL_slashes_count'] = pd.Series(count_slashes)\n",
        "    \n",
        "    count_dots = []\n",
        "    for u in url:\n",
        "        count_dots.append(u.count('.') )\n",
        "    data_frame['URL_dots_count'] = pd.Series(count_dots)\n",
        "\n",
        "    len_hostname = []\n",
        "    start = '://'\n",
        "    end = '/'\n",
        "\n",
        "    for u in url:\n",
        "        temp = u[u.find(start)+2*len(start) + 2: u.rfind(end)]\n",
        "        temp = temp.replace('/','.')\n",
        "        temp = temp.replace('-','.')\n",
        "        len_hostname.append(len(temp.split('.')))\n",
        "\n",
        "    data_frame['URL_hostname_len'] = pd.Series(len_hostname)\n",
        "    data_frame = data_frame.iloc[:,1:]\n",
        "    return data_frame\n",
        "#     total_word_count = 5000\n",
        "#     tokenizer = Tokenizer(num_words=total_word_count)\n",
        "#     tokenizer.fit_on_texts(clean_url)\n",
        "\n",
        "#     seq_length = 5 #Number of items in each sequence\n",
        "#     sequences = tokenizer.texts_to_sequences(clean_url)\n",
        "#     data = pad_sequences(sequences, maxlen=seq_length)\n",
        "\n",
        "#     num_data = phish_data[['create_age(months)', 'expiry_age(months)', 'update_age(days)', 'URL_length', 'URL_slashes', 'URL_dots', 'URL_host']].values\n",
        "#     num_lab = phish_data[\"Label\"].values\n",
        "\n",
        "#     sscaler = StandardScaler()\n",
        "#     num_data_scaled = sscaler.fit_transform(num_data)\n",
        "#     num_data = num_data_scaled"
      ],
      "execution_count": 3,
      "outputs": []
    },
    {
      "cell_type": "code",
      "metadata": {
        "id": "nppCNi6C4a1p",
        "colab_type": "code",
        "colab": {}
      },
      "source": [
        "def get_best_clf_after_CrossVal(train_x, train_y, classifier_parameter_map):\n",
        "    scoring_evals = {'AUC': 'roc_auc',\n",
        "                     'Accuracy': make_scorer(accuracy_score),\n",
        "                     'f1': make_scorer(f1_score)\n",
        "                    }\n",
        "    clf_list=[]\n",
        "    for key in classifier_parameter_map:\n",
        "        clf = GridSearchCV(classifier_parameter_map[key][0],\n",
        "                     classifier_parameter_map[key][1],\n",
        "                     #iid=False,\n",
        "                     scoring = 'accuracy',\n",
        "                     #refit = 'Accuracy',\n",
        "                     cv=10, # no of validations\n",
        "                     n_jobs = -1 # use full concurrency\n",
        "                    )\n",
        "        \n",
        "        result = clf.fit(train_x, train_y)\n",
        "        #print(clf.cv_results_)\n",
        "        print(result.best_estimator_)\n",
        "        print('score: ', result.best_score_)\n",
        "        clf_list.append(result.best_estimator_)\n",
        "    return clf_list"
      ],
      "execution_count": 4,
      "outputs": []
    },
    {
      "cell_type": "code",
      "metadata": {
        "id": "cOaf0cN84eZw",
        "colab_type": "code",
        "colab": {}
      },
      "source": [
        "def classify(train_x, train_y):\n",
        "           \n",
        "    logreg_parameters = {\n",
        "     'penalty': ['l1','l2']\n",
        "    }\n",
        "    \n",
        "    knn_parameters = {\n",
        "       'n_neighbors': np.arange(2,100,1),\n",
        "       'weights': ['distance'],\n",
        "       'metric': ['minkowski']\n",
        "    }\n",
        "    dt_parameters = {\n",
        "        'min_samples_split' : range(2,50,2),\n",
        "        #'max_depth': range(1,50,2)\n",
        "    }\n",
        "    \n",
        "    rf_parameters = {\n",
        "    'bootstrap': [True],\n",
        "    'max_depth': range(1,20,1),\n",
        "    'n_estimators': range(2,100,1)\n",
        "    }\n",
        "    \n",
        "    classifier_parameter_map = {\"Log-Regression\": (LogisticRegression(), logreg_parameters),\n",
        "                          \"K-Nearest Neighbors\": (KNeighborsClassifier(), knn_parameters),\n",
        "                          \"Decision Tree\": (DecisionTreeClassifier(), dt_parameters),\n",
        "                          \"Random Forest\": (RandomForestClassifier(), rf_parameters)}\n",
        "                                            #\"AdaBoost\"}\n",
        "        \n",
        "    clf_list = get_best_clf_after_CrossVal(train_x, train_y, classifier_parameter_map)\n",
        "    print(len(clf_list))\n",
        "    return clf_list"
      ],
      "execution_count": 5,
      "outputs": []
    },
    {
      "cell_type": "code",
      "metadata": {
        "id": "9uwuVIKD-SIr",
        "colab_type": "code",
        "colab": {
          "base_uri": "https://localhost:8080/",
          "height": 118
        },
        "outputId": "e7795135-2276-4ed9-8bc5-b50af8d73af3"
      },
      "source": [
        "clf_list = classify(train_data, np.ravel(labels_train))"
      ],
      "execution_count": null,
      "outputs": [
        {
          "output_type": "stream",
          "text": [
            "LogisticRegression(C=1.0, class_weight=None, dual=False, fit_intercept=True,\n",
            "                   intercept_scaling=1, l1_ratio=None, max_iter=100,\n",
            "                   multi_class='auto', n_jobs=None, penalty='l2',\n",
            "                   random_state=None, solver='lbfgs', tol=0.0001, verbose=0,\n",
            "                   warm_start=False)\n",
            "score:  0.7570263157894737\n"
          ],
          "name": "stdout"
        }
      ]
    },
    {
      "cell_type": "code",
      "metadata": {
        "id": "jzozhCbK4meh",
        "colab_type": "code",
        "colab": {
          "base_uri": "https://localhost:8080/",
          "height": 229
        },
        "outputId": "890dbe5e-6c5e-497a-e043-c007f39796f0"
      },
      "source": [
        "\n",
        "classifiers = ['Log-Regression', 'K-Nearest Neighbors', 'Decision Tree', 'Random Forest']\n",
        "for clfname, clf in zip(classifiers, clf_list):\n",
        "    filename = str('../model_dump/') + str(clfname) + (str('.sav'))\n",
        "    pickle.dump(clf, open(filename, 'wb'))"
      ],
      "execution_count": 7,
      "outputs": [
        {
          "output_type": "error",
          "ename": "NameError",
          "evalue": "ignored",
          "traceback": [
            "\u001b[0;31m---------------------------------------------------------------------------\u001b[0m",
            "\u001b[0;31mNameError\u001b[0m                                 Traceback (most recent call last)",
            "\u001b[0;32m<ipython-input-7-1dfb8ed0df8a>\u001b[0m in \u001b[0;36m<module>\u001b[0;34m()\u001b[0m\n\u001b[1;32m      1\u001b[0m \u001b[0;34m\u001b[0m\u001b[0m\n\u001b[1;32m      2\u001b[0m \u001b[0mclassifiers\u001b[0m \u001b[0;34m=\u001b[0m \u001b[0;34m[\u001b[0m\u001b[0;34m'Log-Regression'\u001b[0m\u001b[0;34m,\u001b[0m \u001b[0;34m'K-Nearest Neighbors'\u001b[0m\u001b[0;34m,\u001b[0m \u001b[0;34m'Decision Tree'\u001b[0m\u001b[0;34m,\u001b[0m \u001b[0;34m'Random Forest'\u001b[0m\u001b[0;34m]\u001b[0m\u001b[0;34m\u001b[0m\u001b[0;34m\u001b[0m\u001b[0m\n\u001b[0;32m----> 3\u001b[0;31m \u001b[0;32mfor\u001b[0m \u001b[0mclfname\u001b[0m\u001b[0;34m,\u001b[0m \u001b[0mclf\u001b[0m \u001b[0;32min\u001b[0m \u001b[0mzip\u001b[0m\u001b[0;34m(\u001b[0m\u001b[0mclassifiers\u001b[0m\u001b[0;34m,\u001b[0m \u001b[0mclf_list\u001b[0m\u001b[0;34m)\u001b[0m\u001b[0;34m:\u001b[0m\u001b[0;34m\u001b[0m\u001b[0;34m\u001b[0m\u001b[0m\n\u001b[0m\u001b[1;32m      4\u001b[0m     \u001b[0mfilename\u001b[0m \u001b[0;34m=\u001b[0m \u001b[0mstr\u001b[0m\u001b[0;34m(\u001b[0m\u001b[0;34m'../model_dump/'\u001b[0m\u001b[0;34m)\u001b[0m \u001b[0;34m+\u001b[0m \u001b[0mstr\u001b[0m\u001b[0;34m(\u001b[0m\u001b[0mclfname\u001b[0m\u001b[0;34m)\u001b[0m \u001b[0;34m+\u001b[0m \u001b[0;34m(\u001b[0m\u001b[0mstr\u001b[0m\u001b[0;34m(\u001b[0m\u001b[0;34m'.sav'\u001b[0m\u001b[0;34m)\u001b[0m\u001b[0;34m)\u001b[0m\u001b[0;34m\u001b[0m\u001b[0;34m\u001b[0m\u001b[0m\n\u001b[1;32m      5\u001b[0m     \u001b[0mpickle\u001b[0m\u001b[0;34m.\u001b[0m\u001b[0mdump\u001b[0m\u001b[0;34m(\u001b[0m\u001b[0mclf\u001b[0m\u001b[0;34m,\u001b[0m \u001b[0mopen\u001b[0m\u001b[0;34m(\u001b[0m\u001b[0mfilename\u001b[0m\u001b[0;34m,\u001b[0m \u001b[0;34m'wb'\u001b[0m\u001b[0;34m)\u001b[0m\u001b[0;34m)\u001b[0m\u001b[0;34m\u001b[0m\u001b[0;34m\u001b[0m\u001b[0m\n",
            "\u001b[0;31mNameError\u001b[0m: name 'clf_list' is not defined"
          ]
        }
      ]
    },
    {
      "cell_type": "code",
      "metadata": {
        "id": "J3UIN_Lq4rAm",
        "colab_type": "code",
        "colab": {}
      },
      "source": [
        "accuracies = []\n",
        "for clfname, clf in zip(classifiers, clf_list):\n",
        "        labels_pred = clf.predict(test_data)\n",
        "        accuracies.append(accuracy_score(labels_test, labels_pred))\n",
        "        print(clfname)\n",
        "        print('Accuracy: ', accuracy_score(labels_test, labels_pred))\n",
        "        print('Classification report')\n",
        "        print(classification_report(labels_test, labels_pred, target_names=['Spam','Legitimate']))"
      ],
      "execution_count": null,
      "outputs": []
    },
    {
      "cell_type": "code",
      "metadata": {
        "id": "_KYC1MDG4v2a",
        "colab_type": "code",
        "colab": {}
      },
      "source": [
        "\n",
        "print(accuracies)\n",
        "\n",
        "\n",
        "plt.figure(figsize=(12, 8))\n",
        "plt.plot(classifiers, accuracies,'ro',markersize=12)\n",
        "plt.plot(classifiers, accuracies,color = 'blue', linestyle = 'dashed',linewidth=2, markersize=12)\n",
        "plt.show()"
      ],
      "execution_count": null,
      "outputs": []
    },
    {
      "cell_type": "code",
      "metadata": {
        "id": "_uuPiu734zKI",
        "colab_type": "code",
        "colab": {}
      },
      "source": [
        "train_data.head()"
      ],
      "execution_count": null,
      "outputs": []
    },
    {
      "cell_type": "code",
      "metadata": {
        "id": "5ibsKDSYA0bK",
        "colab_type": "code",
        "colab": {}
      },
      "source": [
        "## too slow net  speed"
      ],
      "execution_count": null,
      "outputs": []
    }
  ]
}